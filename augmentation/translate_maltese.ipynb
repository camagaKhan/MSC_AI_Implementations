{
 "cells": [
  {
   "cell_type": "code",
   "execution_count": 1,
   "metadata": {},
   "outputs": [],
   "source": [
    "import pandas as pd \n",
    "from deep_translator import GoogleTranslator"
   ]
  },
  {
   "cell_type": "code",
   "execution_count": 2,
   "metadata": {},
   "outputs": [
    {
     "data": {
      "text/html": [
       "<div>\n",
       "<style scoped>\n",
       "    .dataframe tbody tr th:only-of-type {\n",
       "        vertical-align: middle;\n",
       "    }\n",
       "\n",
       "    .dataframe tbody tr th {\n",
       "        vertical-align: top;\n",
       "    }\n",
       "\n",
       "    .dataframe thead th {\n",
       "        text-align: right;\n",
       "    }\n",
       "</style>\n",
       "<table border=\"1\" class=\"dataframe\">\n",
       "  <thead>\n",
       "    <tr style=\"text-align: right;\">\n",
       "      <th></th>\n",
       "      <th>Unnamed: 0</th>\n",
       "      <th>comment_text</th>\n",
       "      <th>toxicity</th>\n",
       "      <th>obscene</th>\n",
       "      <th>sexual_explicit</th>\n",
       "      <th>identity_attack</th>\n",
       "      <th>insult</th>\n",
       "      <th>threat</th>\n",
       "    </tr>\n",
       "  </thead>\n",
       "  <tbody>\n",
       "    <tr>\n",
       "      <th>0</th>\n",
       "      <td>0</td>\n",
       "      <td>typical hate bases left wing stupidity, this w...</td>\n",
       "      <td>1.0</td>\n",
       "      <td>0.0</td>\n",
       "      <td>0.0</td>\n",
       "      <td>0.0</td>\n",
       "      <td>1.0</td>\n",
       "      <td>0.0</td>\n",
       "    </tr>\n",
       "    <tr>\n",
       "      <th>1</th>\n",
       "      <td>1</td>\n",
       "      <td>A wise man taught me long ago the difference b...</td>\n",
       "      <td>0.0</td>\n",
       "      <td>0.0</td>\n",
       "      <td>0.0</td>\n",
       "      <td>0.0</td>\n",
       "      <td>1.0</td>\n",
       "      <td>0.0</td>\n",
       "    </tr>\n",
       "    <tr>\n",
       "      <th>2</th>\n",
       "      <td>2</td>\n",
       "      <td>An AR-15 is not an assault rifle. Your comment...</td>\n",
       "      <td>1.0</td>\n",
       "      <td>0.0</td>\n",
       "      <td>0.0</td>\n",
       "      <td>0.0</td>\n",
       "      <td>1.0</td>\n",
       "      <td>0.0</td>\n",
       "    </tr>\n",
       "    <tr>\n",
       "      <th>3</th>\n",
       "      <td>3</td>\n",
       "      <td>Greenpeace is a nuisance and does some stupid ...</td>\n",
       "      <td>1.0</td>\n",
       "      <td>0.0</td>\n",
       "      <td>0.0</td>\n",
       "      <td>0.0</td>\n",
       "      <td>1.0</td>\n",
       "      <td>0.0</td>\n",
       "    </tr>\n",
       "    <tr>\n",
       "      <th>4</th>\n",
       "      <td>4</td>\n",
       "      <td>Please learn to spell.Feel better now? Is ther...</td>\n",
       "      <td>0.0</td>\n",
       "      <td>0.0</td>\n",
       "      <td>0.0</td>\n",
       "      <td>0.0</td>\n",
       "      <td>0.0</td>\n",
       "      <td>0.0</td>\n",
       "    </tr>\n",
       "    <tr>\n",
       "      <th>...</th>\n",
       "      <td>...</td>\n",
       "      <td>...</td>\n",
       "      <td>...</td>\n",
       "      <td>...</td>\n",
       "      <td>...</td>\n",
       "      <td>...</td>\n",
       "      <td>...</td>\n",
       "      <td>...</td>\n",
       "    </tr>\n",
       "    <tr>\n",
       "      <th>178467</th>\n",
       "      <td>178467</td>\n",
       "      <td>I've been married to one for decades.</td>\n",
       "      <td>0.0</td>\n",
       "      <td>0.0</td>\n",
       "      <td>0.0</td>\n",
       "      <td>0.0</td>\n",
       "      <td>0.0</td>\n",
       "      <td>0.0</td>\n",
       "    </tr>\n",
       "    <tr>\n",
       "      <th>178468</th>\n",
       "      <td>178468</td>\n",
       "      <td>As written before, the anc(another new corrupt...</td>\n",
       "      <td>1.0</td>\n",
       "      <td>0.0</td>\n",
       "      <td>0.0</td>\n",
       "      <td>0.0</td>\n",
       "      <td>1.0</td>\n",
       "      <td>0.0</td>\n",
       "    </tr>\n",
       "    <tr>\n",
       "      <th>178469</th>\n",
       "      <td>178469</td>\n",
       "      <td>Khadr is an admitted terrorist who recalls his...</td>\n",
       "      <td>1.0</td>\n",
       "      <td>0.0</td>\n",
       "      <td>0.0</td>\n",
       "      <td>0.0</td>\n",
       "      <td>1.0</td>\n",
       "      <td>0.0</td>\n",
       "    </tr>\n",
       "    <tr>\n",
       "      <th>178470</th>\n",
       "      <td>178470</td>\n",
       "      <td>Good lord, I hope she wasn't laying on the flo...</td>\n",
       "      <td>1.0</td>\n",
       "      <td>1.0</td>\n",
       "      <td>0.0</td>\n",
       "      <td>0.0</td>\n",
       "      <td>0.0</td>\n",
       "      <td>0.0</td>\n",
       "    </tr>\n",
       "    <tr>\n",
       "      <th>178471</th>\n",
       "      <td>178471</td>\n",
       "      <td>Wrong, rangers to crumble. He's a great player...</td>\n",
       "      <td>1.0</td>\n",
       "      <td>0.0</td>\n",
       "      <td>0.0</td>\n",
       "      <td>0.0</td>\n",
       "      <td>1.0</td>\n",
       "      <td>0.0</td>\n",
       "    </tr>\n",
       "  </tbody>\n",
       "</table>\n",
       "<p>178472 rows × 8 columns</p>\n",
       "</div>"
      ],
      "text/plain": [
       "        Unnamed: 0                                       comment_text  \\\n",
       "0                0  typical hate bases left wing stupidity, this w...   \n",
       "1                1  A wise man taught me long ago the difference b...   \n",
       "2                2  An AR-15 is not an assault rifle. Your comment...   \n",
       "3                3  Greenpeace is a nuisance and does some stupid ...   \n",
       "4                4  Please learn to spell.Feel better now? Is ther...   \n",
       "...            ...                                                ...   \n",
       "178467      178467              I've been married to one for decades.   \n",
       "178468      178468  As written before, the anc(another new corrupt...   \n",
       "178469      178469  Khadr is an admitted terrorist who recalls his...   \n",
       "178470      178470  Good lord, I hope she wasn't laying on the flo...   \n",
       "178471      178471  Wrong, rangers to crumble. He's a great player...   \n",
       "\n",
       "        toxicity  obscene  sexual_explicit  identity_attack  insult  threat  \n",
       "0            1.0      0.0              0.0              0.0     1.0     0.0  \n",
       "1            0.0      0.0              0.0              0.0     1.0     0.0  \n",
       "2            1.0      0.0              0.0              0.0     1.0     0.0  \n",
       "3            1.0      0.0              0.0              0.0     1.0     0.0  \n",
       "4            0.0      0.0              0.0              0.0     0.0     0.0  \n",
       "...          ...      ...              ...              ...     ...     ...  \n",
       "178467       0.0      0.0              0.0              0.0     0.0     0.0  \n",
       "178468       1.0      0.0              0.0              0.0     1.0     0.0  \n",
       "178469       1.0      0.0              0.0              0.0     1.0     0.0  \n",
       "178470       1.0      1.0              0.0              0.0     0.0     0.0  \n",
       "178471       1.0      0.0              0.0              0.0     1.0     0.0  \n",
       "\n",
       "[178472 rows x 8 columns]"
      ]
     },
     "execution_count": 2,
     "metadata": {},
     "output_type": "execute_result"
    }
   ],
   "source": [
    "dataset = pd.read_csv('../Data/jigsaw.15.train.multi-label.csv')\n",
    "dataset"
   ]
  },
  {
   "cell_type": "code",
   "execution_count": 3,
   "metadata": {},
   "outputs": [
    {
     "data": {
      "text/plain": [
       "178472"
      ]
     },
     "execution_count": 3,
     "metadata": {},
     "output_type": "execute_result"
    }
   ],
   "source": [
    "len(dataset)"
   ]
  },
  {
   "cell_type": "code",
   "execution_count": 12,
   "metadata": {},
   "outputs": [],
   "source": [
    "def translate_to_maltese(text):\n",
    "    translator = GoogleTranslator(source='en', target='mt')\n",
    "    translation = translator.translate(text)\n",
    "    return translation"
   ]
  },
  {
   "cell_type": "code",
   "execution_count": 5,
   "metadata": {},
   "outputs": [],
   "source": [
    "from sklearn.model_selection import train_test_split"
   ]
  },
  {
   "cell_type": "code",
   "execution_count": 7,
   "metadata": {},
   "outputs": [],
   "source": [
    "dataset1, dataset2 = train_test_split(dataset, test_size=0.5, random_state=42)"
   ]
  },
  {
   "cell_type": "code",
   "execution_count": 8,
   "metadata": {},
   "outputs": [
    {
     "data": {
      "text/html": [
       "<div>\n",
       "<style scoped>\n",
       "    .dataframe tbody tr th:only-of-type {\n",
       "        vertical-align: middle;\n",
       "    }\n",
       "\n",
       "    .dataframe tbody tr th {\n",
       "        vertical-align: top;\n",
       "    }\n",
       "\n",
       "    .dataframe thead th {\n",
       "        text-align: right;\n",
       "    }\n",
       "</style>\n",
       "<table border=\"1\" class=\"dataframe\">\n",
       "  <thead>\n",
       "    <tr style=\"text-align: right;\">\n",
       "      <th></th>\n",
       "      <th>Unnamed: 0</th>\n",
       "      <th>comment_text</th>\n",
       "      <th>toxicity</th>\n",
       "      <th>obscene</th>\n",
       "      <th>sexual_explicit</th>\n",
       "      <th>identity_attack</th>\n",
       "      <th>insult</th>\n",
       "      <th>threat</th>\n",
       "    </tr>\n",
       "  </thead>\n",
       "  <tbody>\n",
       "    <tr>\n",
       "      <th>24446</th>\n",
       "      <td>24446</td>\n",
       "      <td>Get a load of this: A rant from a misogynistic...</td>\n",
       "      <td>1.0</td>\n",
       "      <td>0.0</td>\n",
       "      <td>0.0</td>\n",
       "      <td>0.0</td>\n",
       "      <td>1.0</td>\n",
       "      <td>0.0</td>\n",
       "    </tr>\n",
       "    <tr>\n",
       "      <th>18523</th>\n",
       "      <td>18523</td>\n",
       "      <td>Nice try, but I'm not a Republican. However, i...</td>\n",
       "      <td>0.0</td>\n",
       "      <td>0.0</td>\n",
       "      <td>0.0</td>\n",
       "      <td>0.0</td>\n",
       "      <td>0.0</td>\n",
       "      <td>0.0</td>\n",
       "    </tr>\n",
       "    <tr>\n",
       "      <th>62700</th>\n",
       "      <td>62700</td>\n",
       "      <td>It's sort have a loony right problem.</td>\n",
       "      <td>1.0</td>\n",
       "      <td>0.0</td>\n",
       "      <td>0.0</td>\n",
       "      <td>0.0</td>\n",
       "      <td>1.0</td>\n",
       "      <td>0.0</td>\n",
       "    </tr>\n",
       "    <tr>\n",
       "      <th>6752</th>\n",
       "      <td>6752</td>\n",
       "      <td>Invoking Jesus into the gun violence debate in...</td>\n",
       "      <td>1.0</td>\n",
       "      <td>0.0</td>\n",
       "      <td>0.0</td>\n",
       "      <td>0.0</td>\n",
       "      <td>0.0</td>\n",
       "      <td>1.0</td>\n",
       "    </tr>\n",
       "    <tr>\n",
       "      <th>63119</th>\n",
       "      <td>63119</td>\n",
       "      <td>The Alaska Supreme Court throws the constituti...</td>\n",
       "      <td>1.0</td>\n",
       "      <td>0.0</td>\n",
       "      <td>0.0</td>\n",
       "      <td>0.0</td>\n",
       "      <td>1.0</td>\n",
       "      <td>0.0</td>\n",
       "    </tr>\n",
       "    <tr>\n",
       "      <th>...</th>\n",
       "      <td>...</td>\n",
       "      <td>...</td>\n",
       "      <td>...</td>\n",
       "      <td>...</td>\n",
       "      <td>...</td>\n",
       "      <td>...</td>\n",
       "      <td>...</td>\n",
       "      <td>...</td>\n",
       "    </tr>\n",
       "    <tr>\n",
       "      <th>119879</th>\n",
       "      <td>119879</td>\n",
       "      <td>You've got a gun! Time to get shot. Stop resis...</td>\n",
       "      <td>1.0</td>\n",
       "      <td>0.0</td>\n",
       "      <td>0.0</td>\n",
       "      <td>0.0</td>\n",
       "      <td>0.0</td>\n",
       "      <td>1.0</td>\n",
       "    </tr>\n",
       "    <tr>\n",
       "      <th>103694</th>\n",
       "      <td>103694</td>\n",
       "      <td>They let the team down. Lose money as well sin...</td>\n",
       "      <td>1.0</td>\n",
       "      <td>0.0</td>\n",
       "      <td>0.0</td>\n",
       "      <td>0.0</td>\n",
       "      <td>1.0</td>\n",
       "      <td>0.0</td>\n",
       "    </tr>\n",
       "    <tr>\n",
       "      <th>131932</th>\n",
       "      <td>131932</td>\n",
       "      <td>You're the one trolling on top of my comments....</td>\n",
       "      <td>1.0</td>\n",
       "      <td>0.0</td>\n",
       "      <td>0.0</td>\n",
       "      <td>0.0</td>\n",
       "      <td>0.0</td>\n",
       "      <td>0.0</td>\n",
       "    </tr>\n",
       "    <tr>\n",
       "      <th>146867</th>\n",
       "      <td>146867</td>\n",
       "      <td>That's just silly.</td>\n",
       "      <td>1.0</td>\n",
       "      <td>0.0</td>\n",
       "      <td>0.0</td>\n",
       "      <td>0.0</td>\n",
       "      <td>0.0</td>\n",
       "      <td>0.0</td>\n",
       "    </tr>\n",
       "    <tr>\n",
       "      <th>121958</th>\n",
       "      <td>121958</td>\n",
       "      <td>A woman has every right to drink as much alcoh...</td>\n",
       "      <td>1.0</td>\n",
       "      <td>0.0</td>\n",
       "      <td>1.0</td>\n",
       "      <td>0.0</td>\n",
       "      <td>0.0</td>\n",
       "      <td>0.0</td>\n",
       "    </tr>\n",
       "  </tbody>\n",
       "</table>\n",
       "<p>89236 rows × 8 columns</p>\n",
       "</div>"
      ],
      "text/plain": [
       "        Unnamed: 0                                       comment_text  \\\n",
       "24446        24446  Get a load of this: A rant from a misogynistic...   \n",
       "18523        18523  Nice try, but I'm not a Republican. However, i...   \n",
       "62700        62700              It's sort have a loony right problem.   \n",
       "6752          6752  Invoking Jesus into the gun violence debate in...   \n",
       "63119        63119  The Alaska Supreme Court throws the constituti...   \n",
       "...            ...                                                ...   \n",
       "119879      119879  You've got a gun! Time to get shot. Stop resis...   \n",
       "103694      103694  They let the team down. Lose money as well sin...   \n",
       "131932      131932  You're the one trolling on top of my comments....   \n",
       "146867      146867                                 That's just silly.   \n",
       "121958      121958  A woman has every right to drink as much alcoh...   \n",
       "\n",
       "        toxicity  obscene  sexual_explicit  identity_attack  insult  threat  \n",
       "24446        1.0      0.0              0.0              0.0     1.0     0.0  \n",
       "18523        0.0      0.0              0.0              0.0     0.0     0.0  \n",
       "62700        1.0      0.0              0.0              0.0     1.0     0.0  \n",
       "6752         1.0      0.0              0.0              0.0     0.0     1.0  \n",
       "63119        1.0      0.0              0.0              0.0     1.0     0.0  \n",
       "...          ...      ...              ...              ...     ...     ...  \n",
       "119879       1.0      0.0              0.0              0.0     0.0     1.0  \n",
       "103694       1.0      0.0              0.0              0.0     1.0     0.0  \n",
       "131932       1.0      0.0              0.0              0.0     0.0     0.0  \n",
       "146867       1.0      0.0              0.0              0.0     0.0     0.0  \n",
       "121958       1.0      0.0              1.0              0.0     0.0     0.0  \n",
       "\n",
       "[89236 rows x 8 columns]"
      ]
     },
     "execution_count": 8,
     "metadata": {},
     "output_type": "execute_result"
    }
   ],
   "source": [
    "dataset1"
   ]
  },
  {
   "cell_type": "code",
   "execution_count": 10,
   "metadata": {},
   "outputs": [],
   "source": [
    "dataset3, dataset4 = train_test_split(dataset1, test_size=0.5, random_state=42)\n",
    "dataset5, dataset6 = train_test_split(dataset2, test_size=0.5, random_state=42)"
   ]
  },
  {
   "cell_type": "code",
   "execution_count": 13,
   "metadata": {},
   "outputs": [],
   "source": [
    "dataset7, dataset8 = train_test_split(dataset3, test_size=0.5, random_state=42)\n",
    "dataset7.to_csv('jigsaw1.translate.csv')\n",
    "dataset8.to_csv('jigsaw2.translate.csv')"
   ]
  },
  {
   "cell_type": "code",
   "execution_count": 15,
   "metadata": {},
   "outputs": [],
   "source": [
    "dataset9, dataset10 = train_test_split(dataset4, test_size=0.5, random_state=42)\n",
    "dataset9.to_csv('jigsaw3.translate.csv')\n",
    "dataset10.to_csv('jigsaw4.translate.csv')"
   ]
  },
  {
   "cell_type": "code",
   "execution_count": 16,
   "metadata": {},
   "outputs": [],
   "source": [
    "dataset11, dataset12 = train_test_split(dataset5, test_size=0.5, random_state=42)\n",
    "dataset11.to_csv('jigsaw5.translate.csv')\n",
    "dataset12.to_csv('jigsaw6.translate.csv')"
   ]
  },
  {
   "cell_type": "code",
   "execution_count": 17,
   "metadata": {},
   "outputs": [],
   "source": [
    "dataset13, dataset14 = train_test_split(dataset6, test_size=0.5, random_state=42)\n",
    "dataset13.to_csv('jigsaw7.translate.csv')\n",
    "dataset14.to_csv('jigsaw8.translate.csv')"
   ]
  },
  {
   "cell_type": "code",
   "execution_count": 14,
   "metadata": {},
   "outputs": [
    {
     "data": {
      "text/plain": [
       "(22309, 22309)"
      ]
     },
     "execution_count": 14,
     "metadata": {},
     "output_type": "execute_result"
    }
   ],
   "source": [
    "len(dataset7), len(dataset8)"
   ]
  },
  {
   "cell_type": "code",
   "execution_count": 11,
   "metadata": {},
   "outputs": [],
   "source": [
    "#dataset['translated_maltese'] = dataset['comment_text'].apply(translate_to_maltese)\n",
    "# dataset3.to_csv('jigsaw1.translate.csv')\n",
    "# dataset4.to_csv('jigsaw2.translate.csv')\n",
    "# dataset5.to_csv('jigsaw3.translate.csv')\n",
    "# dataset6.to_csv('jigsaw4.translate.csv')"
   ]
  },
  {
   "cell_type": "code",
   "execution_count": 12,
   "metadata": {},
   "outputs": [
    {
     "data": {
      "text/plain": [
       "(44618, 44618, 44618, 44618)"
      ]
     },
     "execution_count": 12,
     "metadata": {},
     "output_type": "execute_result"
    }
   ],
   "source": [
    "#dataset\n",
    "\n",
    "len(dataset3), len(dataset4), len(dataset5), len(dataset6)"
   ]
  },
  {
   "cell_type": "code",
   "execution_count": null,
   "metadata": {},
   "outputs": [],
   "source": [
    "#dataset.to_csv('../Data/jigsaw.15.train.maltese.multi-label.csv')"
   ]
  },
  {
   "cell_type": "code",
   "execution_count": null,
   "metadata": {},
   "outputs": [],
   "source": [
    "pd.read_csv('././Data/jigsaw.validation.multi-label_mixed.csv')"
   ]
  }
 ],
 "metadata": {
  "kernelspec": {
   "display_name": "msc_proper",
   "language": "python",
   "name": "python3"
  },
  "language_info": {
   "codemirror_mode": {
    "name": "ipython",
    "version": 3
   },
   "file_extension": ".py",
   "mimetype": "text/x-python",
   "name": "python",
   "nbconvert_exporter": "python",
   "pygments_lexer": "ipython3",
   "version": "3.12.4"
  }
 },
 "nbformat": 4,
 "nbformat_minor": 2
}
