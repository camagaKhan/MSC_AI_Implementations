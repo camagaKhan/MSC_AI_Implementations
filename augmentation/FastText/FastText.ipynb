{
 "cells": [
  {
   "cell_type": "code",
   "execution_count": 2,
   "metadata": {},
   "outputs": [],
   "source": [
    "import pandas as pd\n",
    "from gensim.models.fasttext import FastText\n",
    "import spacy\n",
    "import os"
   ]
  },
  {
   "cell_type": "markdown",
   "metadata": {},
   "source": [
    "Load the tokenizer, tagger, parser, NER, and word vectors"
   ]
  },
  {
   "cell_type": "code",
   "execution_count": 3,
   "metadata": {},
   "outputs": [],
   "source": [
    "nlp = spacy.load('en_core_web_sm')"
   ]
  },
  {
   "cell_type": "code",
   "execution_count": 6,
   "metadata": {},
   "outputs": [
    {
     "name": "stdout",
     "output_type": "stream",
     "text": [
      "INTJ Anyway True UH intj True\n",
      "DET no True DT det True\n",
      "NOUN need False NN ROOT True\n",
      "PART to True TO aux True\n",
      "VERB worry False VB xcomp True\n",
      "SCONJ as True IN mark True\n",
      "PROPN Canada False NNP nsubj True\n",
      "AUX has True VBZ aux True\n",
      "VERB sent False VBN advcl True\n",
      "PRON its True PRP$ poss True\n",
      "PROPN Minister False NNP dobj True\n",
      "ADP for True IN prep True\n",
      "VERB Giving False VBG pcomp True\n",
      "ADP Away False RP prt True\n",
      "NOUN Money False NN dobj True\n",
      "PRON we True PRP nsubj True\n",
      "AUX Do True VBP aux True\n",
      "PART Not True RB neg True\n",
      "AUX Have True VB acl True\n",
      "PART to True TO aux True\n",
      "VERB give True VB xcomp True\n",
      "DET some True DT det True\n",
      "ADJ more True JJR amod True\n",
      "NOUN money False NN dobj True\n",
      "ADP to True IN dative True\n",
      "DET the True DT det True\n",
      "PROPN South False NNP compound True\n",
      "PROPN Sudan False NNP compound True\n",
      "NOUN government False NN pobj True\n",
      "PUNCT . False . punct False\n",
      "DET The True DT det True\n",
      "NOUN people False NNS nsubj True\n",
      "AUX will True MD aux True\n",
      "ADV never True RB neg True\n",
      "VERB see True VB ROOT True\n",
      "DET this True DT det True\n",
      "NOUN money False NN dobj True\n",
      "CCONJ but True CC cc True\n",
      "DET the True DT det True\n",
      "PROPN SS False NNP compound True\n",
      "PROPN politicos False NNP nsubj True\n",
      "AUX will True MD aux True\n",
      "VERB live False VB conj True\n",
      "ADV high False RB advmod True\n",
      "ADP on True IN prep True\n",
      "DET the True DT det True\n",
      "NOUN hog False NN pobj True\n",
      "PUNCT . False . punct False\n",
      "ADP By True IN prep True\n",
      "DET the True DT det True\n",
      "NOUN way False NN pobj True\n",
      "PUNCT , False , punct False\n",
      "AUX did True VBD aux True\n",
      "PRON she True PRP nsubj True\n",
      "VERB declare False VB ROOT True\n",
      "DET all True DT det True\n",
      "NOUN monies False NNS dobj True\n",
      "ADP above True IN prep True\n",
      "SYM $ False $ nmod False\n",
      "NUM 10,000 False CD pobj False\n",
      "ADP to True IN prep True\n",
      "PROPN Canada False NNP compound True\n",
      "PROPN Customs False NNP pobj True\n",
      "SCONJ when True WRB advmod True\n",
      "PRON she True PRP nsubj True\n",
      "VERB left False VBD advcl True\n",
      "PUNCT ? False . punct False\n",
      "\n",
      "Canada 27 33 GPE\n",
      "South Sudan 124 135 GPE\n",
      "SS 193 195 ORG\n",
      "above $10,000 272 285 MONEY\n",
      "Canada Customs 289 303 ORG\n"
     ]
    }
   ],
   "source": [
    "comment_text = \"Anyway no need to worry as Canada has sent its \"\"Minister for Giving Away Money we Do Not Have\"\" to give some more money to the South Sudan government. The people will never see this money but the SS politicos will live high on the hog. By the way, did she declare all monies above $10,000 to Canada Customs when she left?\"\n",
    "doc = nlp(comment_text)\n",
    "for token in doc: \n",
    "    print (token.pos_, token.text, token.is_stop, token.tag_, token.dep_, token.is_alpha)\n",
    "\n",
    "print()\n",
    "\n",
    "for ent in doc.ents:\n",
    "    print(ent.text, ent.start_char, ent.end_char, ent.label_)\n",
    "#doc.pos_"
   ]
  },
  {
   "cell_type": "markdown",
   "metadata": {},
   "source": [
    "Load the vectors"
   ]
  },
  {
   "cell_type": "code",
   "execution_count": 2,
   "metadata": {},
   "outputs": [
    {
     "name": "stderr",
     "output_type": "stream",
     "text": [
      "C:\\Users\\liamm\\AppData\\Local\\Temp\\ipykernel_33832\\2021642582.py:8: DeprecationWarning: Call to deprecated `load_fasttext_format` (use load_facebook_vectors (to use pretrained embeddings) or load_facebook_model (to continue training with the loaded full model, more RAM) instead).\n",
      "  model = FastText.load_fasttext_format(model_path)\n"
     ]
    }
   ],
   "source": [
    "path = r\"C:\\\\Users\\\\liamm\\\\OneDrive\\\\Documents\\\\GitRepositories\\\\Thesis\\\\Augmentation\"\n",
    "\n",
    "# 1) after using the UnzipFastText.py you should \n",
    "# have 2 files inside of the Augmentation folder: \n",
    "#   * crawl-300d-2M-subword.bin [<-- This is the model]\n",
    "#   * crawl-300d-2M-subword.vec\n",
    "model_path = os.path.join(path, \"crawl-300d-2M-subword.bin\")\n",
    "model = FastText.load_fasttext_format(model_path)"
   ]
  },
  {
   "cell_type": "code",
   "execution_count": 13,
   "metadata": {},
   "outputs": [],
   "source": [
    "def synonyms (word, model, top_n=8):\n",
    "    try: \n",
    "        similar_words = model.wv.most_similar(word, topn= top_n)\n",
    "        return [ word for word, similarity in similar_words if similarity > .8 ]\n",
    "    except KeyError:\n",
    "        return []"
   ]
  },
  {
   "cell_type": "code",
   "execution_count": 14,
   "metadata": {},
   "outputs": [
    {
     "name": "stdout",
     "output_type": "stream",
     "text": [
      "['i']\n",
      "['willl', 'wil', 'can', 'should', 'may']\n",
      "[]\n",
      "['test', 'tests']\n",
      "[]\n",
      "['functions.']\n",
      "['WIll']\n",
      "['i']\n",
      "[]\n"
     ]
    }
   ],
   "source": [
    "words = comment_text.split()\n",
    "for word in words:\n",
    "    my_word = synonyms(word, model)\n",
    "    print(my_word)"
   ]
  }
 ],
 "metadata": {
  "kernelspec": {
   "display_name": "msc_proper",
   "language": "python",
   "name": "python3"
  },
  "language_info": {
   "codemirror_mode": {
    "name": "ipython",
    "version": 3
   },
   "file_extension": ".py",
   "mimetype": "text/x-python",
   "name": "python",
   "nbconvert_exporter": "python",
   "pygments_lexer": "ipython3",
   "version": "3.12.2"
  }
 },
 "nbformat": 4,
 "nbformat_minor": 2
}
