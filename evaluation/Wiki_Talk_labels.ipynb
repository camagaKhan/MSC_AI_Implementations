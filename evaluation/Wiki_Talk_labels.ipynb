{
 "cells": [
  {
   "cell_type": "code",
   "execution_count": 1,
   "metadata": {},
   "outputs": [],
   "source": [
    "import pandas as pd\n",
    "import matplotlib.pyplot as plt\n",
    "\n",
    "from matplotlib import rcParams\n",
    "rcParams['font.family'] = 'Arial'"
   ]
  },
  {
   "cell_type": "code",
   "execution_count": 2,
   "metadata": {},
   "outputs": [],
   "source": [
    "data = pd.read_csv('../Data/wiki_labels_with_not_offensive.csv')"
   ]
  },
  {
   "cell_type": "code",
   "execution_count": 3,
   "metadata": {},
   "outputs": [
    {
     "data": {
      "text/plain": [
       "159563"
      ]
     },
     "execution_count": 3,
     "metadata": {},
     "output_type": "execute_result"
    }
   ],
   "source": [
    "len(data)"
   ]
  },
  {
   "cell_type": "code",
   "execution_count": 4,
   "metadata": {},
   "outputs": [
    {
     "data": {
      "text/plain": [
       "143338.0"
      ]
     },
     "execution_count": 4,
     "metadata": {},
     "output_type": "execute_result"
    }
   ],
   "source": [
    "data['not_offensive'].sum()"
   ]
  },
  {
   "cell_type": "code",
   "execution_count": 5,
   "metadata": {},
   "outputs": [
    {
     "data": {
      "text/plain": [
       "16225.0"
      ]
     },
     "execution_count": 5,
     "metadata": {},
     "output_type": "execute_result"
    }
   ],
   "source": [
    "len(data) - data['not_offensive'].sum()"
   ]
  },
  {
   "cell_type": "code",
   "execution_count": 6,
   "metadata": {},
   "outputs": [
    {
     "data": {
      "text/plain": [
       "(16225, 143338)"
      ]
     },
     "execution_count": 6,
     "metadata": {},
     "output_type": "execute_result"
    }
   ],
   "source": [
    "negative_impact, positive_impact = int(len(data) - data['not_offensive'].sum()), int(data['not_offensive'].sum())\n",
    "\n",
    "negative_impact, positive_impact "
   ]
  },
  {
   "cell_type": "code",
   "execution_count": 7,
   "metadata": {},
   "outputs": [
    {
     "data": {
      "text/html": [
       "<div>\n",
       "<style scoped>\n",
       "    .dataframe tbody tr th:only-of-type {\n",
       "        vertical-align: middle;\n",
       "    }\n",
       "\n",
       "    .dataframe tbody tr th {\n",
       "        vertical-align: top;\n",
       "    }\n",
       "\n",
       "    .dataframe thead th {\n",
       "        text-align: right;\n",
       "    }\n",
       "</style>\n",
       "<table border=\"1\" class=\"dataframe\">\n",
       "  <thead>\n",
       "    <tr style=\"text-align: right;\">\n",
       "      <th></th>\n",
       "      <th>Unnamed: 0.1</th>\n",
       "      <th>Unnamed: 0</th>\n",
       "      <th>comment_text</th>\n",
       "      <th>toxicity</th>\n",
       "      <th>obscene</th>\n",
       "      <th>sexual_explicit</th>\n",
       "      <th>identity_attack</th>\n",
       "      <th>insult</th>\n",
       "      <th>threat</th>\n",
       "      <th>not_offensive</th>\n",
       "    </tr>\n",
       "  </thead>\n",
       "  <tbody>\n",
       "    <tr>\n",
       "      <th>0</th>\n",
       "      <td>0</td>\n",
       "      <td>3</td>\n",
       "      <td>while arresting a man for resisting arrest.If ...</td>\n",
       "      <td>1.0</td>\n",
       "      <td>1.0</td>\n",
       "      <td>1.0</td>\n",
       "      <td>0.0</td>\n",
       "      <td>1.0</td>\n",
       "      <td>0.0</td>\n",
       "      <td>0.0</td>\n",
       "    </tr>\n",
       "    <tr>\n",
       "      <th>1</th>\n",
       "      <td>1</td>\n",
       "      <td>10</td>\n",
       "      <td>NO ! There are no alternative facts. Go check ...</td>\n",
       "      <td>1.0</td>\n",
       "      <td>0.0</td>\n",
       "      <td>0.0</td>\n",
       "      <td>0.0</td>\n",
       "      <td>1.0</td>\n",
       "      <td>0.0</td>\n",
       "      <td>0.0</td>\n",
       "    </tr>\n",
       "    <tr>\n",
       "      <th>2</th>\n",
       "      <td>2</td>\n",
       "      <td>11</td>\n",
       "      <td>the more you whine sore loser Artsterthe more ...</td>\n",
       "      <td>1.0</td>\n",
       "      <td>0.0</td>\n",
       "      <td>0.0</td>\n",
       "      <td>0.0</td>\n",
       "      <td>1.0</td>\n",
       "      <td>0.0</td>\n",
       "      <td>0.0</td>\n",
       "    </tr>\n",
       "    <tr>\n",
       "      <th>3</th>\n",
       "      <td>3</td>\n",
       "      <td>38</td>\n",
       "      <td>There's rarely opportunity to agree with Benne...</td>\n",
       "      <td>0.0</td>\n",
       "      <td>0.0</td>\n",
       "      <td>0.0</td>\n",
       "      <td>0.0</td>\n",
       "      <td>0.0</td>\n",
       "      <td>0.0</td>\n",
       "      <td>1.0</td>\n",
       "    </tr>\n",
       "    <tr>\n",
       "      <th>4</th>\n",
       "      <td>4</td>\n",
       "      <td>42</td>\n",
       "      <td>The Law has every freedom to be an asss!</td>\n",
       "      <td>1.0</td>\n",
       "      <td>0.0</td>\n",
       "      <td>0.0</td>\n",
       "      <td>0.0</td>\n",
       "      <td>1.0</td>\n",
       "      <td>0.0</td>\n",
       "      <td>0.0</td>\n",
       "    </tr>\n",
       "    <tr>\n",
       "      <th>...</th>\n",
       "      <td>...</td>\n",
       "      <td>...</td>\n",
       "      <td>...</td>\n",
       "      <td>...</td>\n",
       "      <td>...</td>\n",
       "      <td>...</td>\n",
       "      <td>...</td>\n",
       "      <td>...</td>\n",
       "      <td>...</td>\n",
       "      <td>...</td>\n",
       "    </tr>\n",
       "    <tr>\n",
       "      <th>194423</th>\n",
       "      <td>194423</td>\n",
       "      <td>1997184</td>\n",
       "      <td>Herod's slaughter of the innocents in Matthew'...</td>\n",
       "      <td>0.0</td>\n",
       "      <td>0.0</td>\n",
       "      <td>0.0</td>\n",
       "      <td>0.0</td>\n",
       "      <td>0.0</td>\n",
       "      <td>0.0</td>\n",
       "      <td>1.0</td>\n",
       "    </tr>\n",
       "    <tr>\n",
       "      <th>194424</th>\n",
       "      <td>194424</td>\n",
       "      <td>1997187</td>\n",
       "      <td>You don't know that he would kill them if he c...</td>\n",
       "      <td>0.0</td>\n",
       "      <td>0.0</td>\n",
       "      <td>0.0</td>\n",
       "      <td>0.0</td>\n",
       "      <td>0.0</td>\n",
       "      <td>0.0</td>\n",
       "      <td>1.0</td>\n",
       "    </tr>\n",
       "    <tr>\n",
       "      <th>194425</th>\n",
       "      <td>194425</td>\n",
       "      <td>1997223</td>\n",
       "      <td>My son shouldn't have to be afraid during THOS...</td>\n",
       "      <td>0.0</td>\n",
       "      <td>0.0</td>\n",
       "      <td>0.0</td>\n",
       "      <td>0.0</td>\n",
       "      <td>0.0</td>\n",
       "      <td>0.0</td>\n",
       "      <td>1.0</td>\n",
       "    </tr>\n",
       "    <tr>\n",
       "      <th>194426</th>\n",
       "      <td>194426</td>\n",
       "      <td>1997226</td>\n",
       "      <td>Homosexuals are NOT pedophiles. The pedophiles...</td>\n",
       "      <td>0.0</td>\n",
       "      <td>0.0</td>\n",
       "      <td>0.0</td>\n",
       "      <td>0.0</td>\n",
       "      <td>0.0</td>\n",
       "      <td>0.0</td>\n",
       "      <td>1.0</td>\n",
       "    </tr>\n",
       "    <tr>\n",
       "      <th>194427</th>\n",
       "      <td>194427</td>\n",
       "      <td>1997240</td>\n",
       "      <td>I've not said this before, but Kizla you are a...</td>\n",
       "      <td>0.0</td>\n",
       "      <td>0.0</td>\n",
       "      <td>0.0</td>\n",
       "      <td>0.0</td>\n",
       "      <td>0.0</td>\n",
       "      <td>0.0</td>\n",
       "      <td>1.0</td>\n",
       "    </tr>\n",
       "  </tbody>\n",
       "</table>\n",
       "<p>194428 rows × 10 columns</p>\n",
       "</div>"
      ],
      "text/plain": [
       "        Unnamed: 0.1  Unnamed: 0  \\\n",
       "0                  0           3   \n",
       "1                  1          10   \n",
       "2                  2          11   \n",
       "3                  3          38   \n",
       "4                  4          42   \n",
       "...              ...         ...   \n",
       "194423        194423     1997184   \n",
       "194424        194424     1997187   \n",
       "194425        194425     1997223   \n",
       "194426        194426     1997226   \n",
       "194427        194427     1997240   \n",
       "\n",
       "                                             comment_text  toxicity  obscene  \\\n",
       "0       while arresting a man for resisting arrest.If ...       1.0      1.0   \n",
       "1       NO ! There are no alternative facts. Go check ...       1.0      0.0   \n",
       "2       the more you whine sore loser Artsterthe more ...       1.0      0.0   \n",
       "3       There's rarely opportunity to agree with Benne...       0.0      0.0   \n",
       "4                The Law has every freedom to be an asss!       1.0      0.0   \n",
       "...                                                   ...       ...      ...   \n",
       "194423  Herod's slaughter of the innocents in Matthew'...       0.0      0.0   \n",
       "194424  You don't know that he would kill them if he c...       0.0      0.0   \n",
       "194425  My son shouldn't have to be afraid during THOS...       0.0      0.0   \n",
       "194426  Homosexuals are NOT pedophiles. The pedophiles...       0.0      0.0   \n",
       "194427  I've not said this before, but Kizla you are a...       0.0      0.0   \n",
       "\n",
       "        sexual_explicit  identity_attack  insult  threat  not_offensive  \n",
       "0                   1.0              0.0     1.0     0.0            0.0  \n",
       "1                   0.0              0.0     1.0     0.0            0.0  \n",
       "2                   0.0              0.0     1.0     0.0            0.0  \n",
       "3                   0.0              0.0     0.0     0.0            1.0  \n",
       "4                   0.0              0.0     1.0     0.0            0.0  \n",
       "...                 ...              ...     ...     ...            ...  \n",
       "194423              0.0              0.0     0.0     0.0            1.0  \n",
       "194424              0.0              0.0     0.0     0.0            1.0  \n",
       "194425              0.0              0.0     0.0     0.0            1.0  \n",
       "194426              0.0              0.0     0.0     0.0            1.0  \n",
       "194427              0.0              0.0     0.0     0.0            1.0  \n",
       "\n",
       "[194428 rows x 10 columns]"
      ]
     },
     "execution_count": 7,
     "metadata": {},
     "output_type": "execute_result"
    }
   ],
   "source": [
    "test_jigsaw = pd.read_csv('../Data/jigsaw.test.csv')\n",
    "test_jigsaw"
   ]
  },
  {
   "cell_type": "code",
   "execution_count": 8,
   "metadata": {},
   "outputs": [],
   "source": [
    "jigsaw_not_offensive, offensive_content_jigsaw = int(test_jigsaw['not_offensive'].sum()), int(len(test_jigsaw) - test_jigsaw['not_offensive'].sum())"
   ]
  },
  {
   "cell_type": "code",
   "execution_count": 9,
   "metadata": {},
   "outputs": [
    {
     "data": {
      "text/html": [
       "<div>\n",
       "<style scoped>\n",
       "    .dataframe tbody tr th:only-of-type {\n",
       "        vertical-align: middle;\n",
       "    }\n",
       "\n",
       "    .dataframe tbody tr th {\n",
       "        vertical-align: top;\n",
       "    }\n",
       "\n",
       "    .dataframe thead th {\n",
       "        text-align: right;\n",
       "    }\n",
       "</style>\n",
       "<table border=\"1\" class=\"dataframe\">\n",
       "  <thead>\n",
       "    <tr style=\"text-align: right;\">\n",
       "      <th></th>\n",
       "      <th>Factors</th>\n",
       "      <th>Hateful Content</th>\n",
       "      <th>Not Offensive</th>\n",
       "    </tr>\n",
       "  </thead>\n",
       "  <tbody>\n",
       "    <tr>\n",
       "      <th>0</th>\n",
       "      <td>Wiki Talk Labels</td>\n",
       "      <td>-16225</td>\n",
       "      <td>143338</td>\n",
       "    </tr>\n",
       "    <tr>\n",
       "      <th>1</th>\n",
       "      <td>Jigsaw Civil Comments</td>\n",
       "      <td>-15888</td>\n",
       "      <td>178540</td>\n",
       "    </tr>\n",
       "  </tbody>\n",
       "</table>\n",
       "</div>"
      ],
      "text/plain": [
       "                 Factors  Hateful Content  Not Offensive\n",
       "0       Wiki Talk Labels           -16225         143338\n",
       "1  Jigsaw Civil Comments           -15888         178540"
      ]
     },
     "execution_count": 9,
     "metadata": {},
     "output_type": "execute_result"
    }
   ],
   "source": [
    "# Sample data for a tornado chart (positive and negative impacts on a central value)\n",
    "tornado_data = {\n",
    "    'Factors': ['Wiki Talk Labels', 'Jigsaw Civil Comments'],\n",
    "    'Hateful Content': [-negative_impact, -offensive_content_jigsaw],\n",
    "    'Not Offensive': [positive_impact, jigsaw_not_offensive]\n",
    "}\n",
    "\n",
    "# Convert the data into a pandas DataFrame\n",
    "df = pd.DataFrame(tornado_data)\n",
    "df"
   ]
  },
  {
   "cell_type": "code",
   "execution_count": 11,
   "metadata": {},
   "outputs": [
    {
     "data": {
      "image/png": "[encoded data removed]",
      "text/plain": [
       "<Figure size 800x300 with 1 Axes>"
      ]
     },
     "metadata": {},
     "output_type": "display_data"
    }
   ],
   "source": [
    "# Plotting the tornado chart\n",
    "fig, ax = plt.subplots(figsize=(8, 3))\n",
    "\n",
    "# Plot the Negative Impact bars on the left side\n",
    "ax.barh(df['Factors'], df['Hateful Content'], color='#C96868', label='Hateful Comments')\n",
    "\n",
    "# Plot the Positive Impact bars on the right side\n",
    "ax.barh(df['Factors'], df['Not Offensive'], color='#FADFA1', label='Non Offensive Comments')\n",
    "\n",
    "# Add labels and title\n",
    "ax.set_xlabel('Impact')\n",
    "ax.set_title('Hate Speech Dataset Comparison (Hateful vs Non Offensive)')\n",
    "\n",
    "# Add grid and legend\n",
    "ax.grid(False)\n",
    "ax.legend()\n",
    "\n",
    "# Show the plot\n",
    "plt.tight_layout()\n",
    "plt.show()"
   ]
  }
 ],
 "metadata": {
  "kernelspec": {
   "display_name": "msc_proper",
   "language": "python",
   "name": "python3"
  },
  "language_info": {
   "codemirror_mode": {
    "name": "ipython",
    "version": 3
   },
   "file_extension": ".py",
   "mimetype": "text/x-python",
   "name": "python",
   "nbconvert_exporter": "python",
   "pygments_lexer": "ipython3",
   "version": "3.12.3"
  }
 },
 "nbformat": 4,
 "nbformat_minor": 2
}
