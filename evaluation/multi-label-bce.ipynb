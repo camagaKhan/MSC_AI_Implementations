{
 "cells": [
  {
   "cell_type": "code",
   "execution_count": 1,
   "metadata": {},
   "outputs": [],
   "source": [
    "import pandas as pd \n",
    "import pickle"
   ]
  },
  {
   "cell_type": "code",
   "execution_count": 10,
   "metadata": {},
   "outputs": [
    {
     "data": {
      "text/plain": [
       "[{'accuracy': 0.9617570638656616,\n",
       "  'auc_per_class': tensor([0.9529, 0.9839, 0.9836, 0.9824, 0.9609, 0.9834], device='cuda:0'),\n",
       "  'auc_roc_macro': 0.9745358824729919,\n",
       "  'f1_Micro': 0.5338780283927917,\n",
       "  'f1_Macro': 0.47038915753364563,\n",
       "  'f1_Weighted': 0.539347231388092,\n",
       "  'f1_per_class': tensor([0.5140, 0.5136, 0.4250, 0.4007, 0.6029, 0.3661], device='cuda:0'),\n",
       "  'precision_macro': 0.35428386926651,\n",
       "  'precision_micro': 0.39057984948158264,\n",
       "  'recall_macro': tensor(0.7121, device='cuda:0'),\n",
       "  'recall_micro': tensor(0.8433, device='cuda:0'),\n",
       "  'precision_per_class_macro': tensor(0.3543, device='cuda:0'),\n",
       "  'precision_per_class_micro': tensor(0.3906, device='cuda:0'),\n",
       "  'precision_recall_curve': ([tensor([0.0795, 0.0795, 0.0795,  ..., 1.0000, 1.0000, 1.0000], device='cuda:0'),\n",
       "    tensor([0.0055, 0.0055, 0.0055,  ..., 1.0000, 1.0000, 1.0000], device='cuda:0'),\n",
       "    tensor([0.0023, 0.0023, 0.0023,  ..., 1.0000, 1.0000, 1.0000], device='cuda:0'),\n",
       "    tensor([0.0069, 0.0069, 0.0069,  ..., 0.5000, 1.0000, 1.0000], device='cuda:0'),\n",
       "    tensor([0.0594, 0.0594, 0.0594,  ..., 1.0000, 1.0000, 1.0000], device='cuda:0'),\n",
       "    tensor([0.0023, 0.0023, 0.0023,  ..., 0.5000, 1.0000, 1.0000], device='cuda:0')],\n",
       "   [tensor([1.0000e+00, 1.0000e+00, 1.0000e+00,  ..., 4.5313e-04, 2.5893e-04,\n",
       "            0.0000e+00], device='cuda:0'),\n",
       "    tensor([1.0000e+00, 1.0000e+00, 1.0000e+00,  ..., 1.8727e-03, 9.3633e-04,\n",
       "            0.0000e+00], device='cuda:0'),\n",
       "    tensor([1.0000, 1.0000, 1.0000,  ..., 0.0113, 0.0023, 0.0000], device='cuda:0'),\n",
       "    tensor([1.0000e+00, 1.0000e+00, 1.0000e+00,  ..., 7.4019e-04, 7.4019e-04,\n",
       "            0.0000e+00], device='cuda:0'),\n",
       "    tensor([1.0000e+00, 1.0000e+00, 1.0000e+00,  ..., 4.3309e-04, 1.7324e-04,\n",
       "            0.0000e+00], device='cuda:0'),\n",
       "    tensor([1.0000, 1.0000, 1.0000,  ..., 0.0022, 0.0022, 0.0000], device='cuda:0')],\n",
       "   [tensor([2.9856e-06, 3.0714e-06, 3.2010e-06,  ..., 1.0000e+00, 1.0000e+00,\n",
       "            1.0000e+00], device='cuda:0'),\n",
       "    tensor([1.2391e-06, 1.2993e-06, 1.3266e-06,  ..., 9.9912e-01, 9.9931e-01,\n",
       "            9.9938e-01], device='cuda:0'),\n",
       "    tensor([2.0866e-08, 2.1844e-08, 2.3470e-08,  ..., 9.9991e-01, 9.9993e-01,\n",
       "            9.9997e-01], device='cuda:0'),\n",
       "    tensor([1.5797e-09, 1.6119e-09, 1.7571e-09,  ..., 9.9832e-01, 9.9865e-01,\n",
       "            9.9952e-01], device='cuda:0'),\n",
       "    tensor([2.0747e-06, 2.1340e-06, 2.4587e-06,  ..., 1.0000e+00, 1.0000e+00,\n",
       "            1.0000e+00], device='cuda:0'),\n",
       "    tensor([6.4003e-08, 6.4741e-08, 7.0299e-08,  ..., 9.9880e-01, 9.9889e-01,\n",
       "            9.9935e-01], device='cuda:0')]),\n",
       "  'roc_curve': ([tensor([0.0000, 0.0000, 0.0000,  ..., 1.0000, 1.0000, 1.0000], device='cuda:0'),\n",
       "    tensor([0.0000, 0.0000, 0.0000,  ..., 1.0000, 1.0000, 1.0000], device='cuda:0'),\n",
       "    tensor([0.0000, 0.0000, 0.0000,  ..., 1.0000, 1.0000, 1.0000], device='cuda:0'),\n",
       "    tensor([0.0000e+00, 0.0000e+00, 5.1793e-06,  ..., 9.9999e-01, 9.9999e-01,\n",
       "            1.0000e+00], device='cuda:0'),\n",
       "    tensor([0.0000, 0.0000, 0.0000,  ..., 1.0000, 1.0000, 1.0000], device='cuda:0'),\n",
       "    tensor([0.0000e+00, 0.0000e+00, 5.1551e-06,  ..., 9.9999e-01, 9.9999e-01,\n",
       "            1.0000e+00], device='cuda:0')],\n",
       "   [tensor([0.0000e+00, 2.5893e-04, 4.5313e-04,  ..., 1.0000e+00, 1.0000e+00,\n",
       "            1.0000e+00], device='cuda:0'),\n",
       "    tensor([0.0000e+00, 9.3633e-04, 1.8727e-03,  ..., 1.0000e+00, 1.0000e+00,\n",
       "            1.0000e+00], device='cuda:0'),\n",
       "    tensor([0.0000, 0.0023, 0.0113,  ..., 1.0000, 1.0000, 1.0000], device='cuda:0'),\n",
       "    tensor([0.0000e+00, 7.4019e-04, 7.4019e-04,  ..., 1.0000e+00, 1.0000e+00,\n",
       "            1.0000e+00], device='cuda:0'),\n",
       "    tensor([0.0000e+00, 1.7324e-04, 4.3309e-04,  ..., 1.0000e+00, 1.0000e+00,\n",
       "            1.0000e+00], device='cuda:0'),\n",
       "    tensor([0.0000, 0.0022, 0.0022,  ..., 1.0000, 1.0000, 1.0000], device='cuda:0')],\n",
       "   [tensor([1.0000e+00, 1.0000e+00, 1.0000e+00,  ..., 3.2010e-06, 3.0714e-06,\n",
       "            2.9856e-06], device='cuda:0'),\n",
       "    tensor([1.0000e+00, 9.9938e-01, 9.9931e-01,  ..., 1.3266e-06, 1.2993e-06,\n",
       "            1.2391e-06], device='cuda:0'),\n",
       "    tensor([1.0000e+00, 9.9997e-01, 9.9993e-01,  ..., 2.3470e-08, 2.1844e-08,\n",
       "            2.0866e-08], device='cuda:0'),\n",
       "    tensor([1.0000e+00, 9.9952e-01, 9.9865e-01,  ..., 1.7571e-09, 1.6119e-09,\n",
       "            1.5797e-09], device='cuda:0'),\n",
       "    tensor([1.0000e+00, 1.0000e+00, 1.0000e+00,  ..., 2.4587e-06, 2.1340e-06,\n",
       "            2.0747e-06], device='cuda:0'),\n",
       "    tensor([1.0000e+00, 9.9935e-01, 9.9889e-01,  ..., 7.0299e-08, 6.4741e-08,\n",
       "            6.4003e-08], device='cuda:0')]),\n",
       "  'precision_per_class_weighted': tensor(0.4019, device='cuda:0'),\n",
       "  'recall_weighted': tensor(0.8433, device='cuda:0'),\n",
       "  'recall_per_class_macro': tensor(0.7121, device='cuda:0'),\n",
       "  'recall_per_class_micro': tensor(0.8433, device='cuda:0'),\n",
       "  'recall_per_class_weighted': tensor(0.8433, device='cuda:0'),\n",
       "  'confusion_matrix': tensor([[[153775,  25205],\n",
       "           [  1387,  14061]],\n",
       "  \n",
       "          [[192165,   1195],\n",
       "           [   286,    782]],\n",
       "  \n",
       "          [[193472,    515],\n",
       "           [   183,    258]],\n",
       "  \n",
       "          [[190736,   2341],\n",
       "           [   426,    925]],\n",
       "  \n",
       "          [[172937,   9946],\n",
       "           [  2270,   9275]],\n",
       "  \n",
       "          [[193321,    662],\n",
       "           [   197,    248]]], device='cuda:0'),\n",
       "  'CECE': 0.5711951851844788}]"
      ]
     },
     "execution_count": 10,
     "metadata": {},
     "output_type": "execute_result"
    }
   ],
   "source": [
    "file_path = f'../Metrics_results/bert-base-cased/test/bert-ML-Cased-jigsaw_6lbls_{'BCE'}__training.pkl'\n",
    "\n",
    "# Open and load the pickle file\n",
    "with open(file_path, 'rb') as file:\n",
    "    distilbert_cased_metrics = pickle.load(file)\n",
    "    \n",
    "distilbert_cased_metrics"
   ]
  },
  {
   "cell_type": "code",
   "execution_count": 7,
   "metadata": {},
   "outputs": [
    {
     "ename": "FileNotFoundError",
     "evalue": "[Errno 2] No such file or directory: '../Metrics_results/HateBert/test/DistilBERT-ML-Cased-jigsaw_6lbls_BCE__training.pkl'",
     "output_type": "error",
     "traceback": [
      "\u001b[1;31m---------------------------------------------------------------------------\u001b[0m",
      "\u001b[1;31mFileNotFoundError\u001b[0m                         Traceback (most recent call last)",
      "Cell \u001b[1;32mIn[8], line 5\u001b[0m\n\u001b[0;32m      2\u001b[0m file_path \u001b[38;5;241m=\u001b[39m \u001b[38;5;124m'\u001b[39m\u001b[38;5;124m../Metrics_results/HateBert/test/DistilBERT-ML-Cased-jigsaw_6lbls_BCE__training.pkl\u001b[39m\u001b[38;5;124m'\u001b[39m\n\u001b[0;32m      4\u001b[0m \u001b[38;5;66;03m# Open and load the pickle file\u001b[39;00m\n\u001b[1;32m----> 5\u001b[0m \u001b[38;5;28;01mwith\u001b[39;00m \u001b[38;5;28;43mopen\u001b[39;49m\u001b[43m(\u001b[49m\u001b[43mfile_path\u001b[49m\u001b[43m,\u001b[49m\u001b[43m \u001b[49m\u001b[38;5;124;43m'\u001b[39;49m\u001b[38;5;124;43mrb\u001b[39;49m\u001b[38;5;124;43m'\u001b[39;49m\u001b[43m)\u001b[49m \u001b[38;5;28;01mas\u001b[39;00m file:\n\u001b[0;32m      6\u001b[0m     hatebert_cased_metrics \u001b[38;5;241m=\u001b[39m pickle\u001b[38;5;241m.\u001b[39mload(file)\n\u001b[0;32m      8\u001b[0m hatebert_cased_metrics\n",
      "File \u001b[1;32mc:\\Users\\liamm\\anaconda3\\envs\\msc_proper\\Lib\\site-packages\\IPython\\core\\interactiveshell.py:324\u001b[0m, in \u001b[0;36m_modified_open\u001b[1;34m(file, *args, **kwargs)\u001b[0m\n\u001b[0;32m    317\u001b[0m \u001b[38;5;28;01mif\u001b[39;00m file \u001b[38;5;129;01min\u001b[39;00m {\u001b[38;5;241m0\u001b[39m, \u001b[38;5;241m1\u001b[39m, \u001b[38;5;241m2\u001b[39m}:\n\u001b[0;32m    318\u001b[0m     \u001b[38;5;28;01mraise\u001b[39;00m \u001b[38;5;167;01mValueError\u001b[39;00m(\n\u001b[0;32m    319\u001b[0m         \u001b[38;5;124mf\u001b[39m\u001b[38;5;124m\"\u001b[39m\u001b[38;5;124mIPython won\u001b[39m\u001b[38;5;124m'\u001b[39m\u001b[38;5;124mt let you open fd=\u001b[39m\u001b[38;5;132;01m{\u001b[39;00mfile\u001b[38;5;132;01m}\u001b[39;00m\u001b[38;5;124m by default \u001b[39m\u001b[38;5;124m\"\u001b[39m\n\u001b[0;32m    320\u001b[0m         \u001b[38;5;124m\"\u001b[39m\u001b[38;5;124mas it is likely to crash IPython. If you know what you are doing, \u001b[39m\u001b[38;5;124m\"\u001b[39m\n\u001b[0;32m    321\u001b[0m         \u001b[38;5;124m\"\u001b[39m\u001b[38;5;124myou can use builtins\u001b[39m\u001b[38;5;124m'\u001b[39m\u001b[38;5;124m open.\u001b[39m\u001b[38;5;124m\"\u001b[39m\n\u001b[0;32m    322\u001b[0m     )\n\u001b[1;32m--> 324\u001b[0m \u001b[38;5;28;01mreturn\u001b[39;00m \u001b[43mio_open\u001b[49m\u001b[43m(\u001b[49m\u001b[43mfile\u001b[49m\u001b[43m,\u001b[49m\u001b[43m \u001b[49m\u001b[38;5;241;43m*\u001b[39;49m\u001b[43margs\u001b[49m\u001b[43m,\u001b[49m\u001b[43m \u001b[49m\u001b[38;5;241;43m*\u001b[39;49m\u001b[38;5;241;43m*\u001b[39;49m\u001b[43mkwargs\u001b[49m\u001b[43m)\u001b[49m\n",
      "\u001b[1;31mFileNotFoundError\u001b[0m: [Errno 2] No such file or directory: '../Metrics_results/HateBert/test/DistilBERT-ML-Cased-jigsaw_6lbls_BCE__training.pkl'"
     ]
    }
   ],
   "source": [
    "# HateBert-ML-jigsaw_6lbls_FL_128_augmented_testing.pkl\n",
    "file_path = '../Metrics_results/HateBert/test/Metrics_results/HateBert/test/HateBert-ML-jigsaw_6lbls_FL_128_augmented_testing.pkl'\n",
    "\n",
    "# Open and load the pickle file\n",
    "with open(file_path, 'rb') as file:\n",
    "    distilbert_cased_metrics = pickle.load(file)\n",
    "    \n",
    "distilbert_cased_metrics"
   ]
  }
 ],
 "metadata": {
  "kernelspec": {
   "display_name": "msc_proper",
   "language": "python",
   "name": "python3"
  },
  "language_info": {
   "codemirror_mode": {
    "name": "ipython",
    "version": 3
   },
   "file_extension": ".py",
   "mimetype": "text/x-python",
   "name": "python",
   "nbconvert_exporter": "python",
   "pygments_lexer": "ipython3",
   "version": "3.12.3"
  }
 },
 "nbformat": 4,
 "nbformat_minor": 2
}
