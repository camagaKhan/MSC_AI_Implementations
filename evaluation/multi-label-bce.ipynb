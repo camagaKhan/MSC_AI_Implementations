{
 "cells": [
  {
   "cell_type": "code",
   "execution_count": 3,
   "metadata": {},
   "outputs": [],
   "source": [
    "import pandas as pd \n",
    "import pickle"
   ]
  },
  {
   "cell_type": "code",
   "execution_count": 4,
   "metadata": {},
   "outputs": [
    {
     "data": {
      "text/plain": [
       "[{'accuracy': 0.9698971509933472,\n",
       "  'auc_per_class': tensor([0.9518, 0.9866, 0.9818, 0.9779, 0.9585, 0.9850], device='cuda:0'),\n",
       "  'auc_roc_macro': 0.9736089706420898,\n",
       "  'f1_Micro': 0.5695021748542786,\n",
       "  'f1_Macro': 0.467374324798584,\n",
       "  'f1_Weighted': 0.5731067061424255,\n",
       "  'f1_per_class': tensor([0.5598, 0.5669, 0.3080, 0.3817, 0.6323, 0.3555], device='cuda:0'),\n",
       "  'precision_macro': 0.4806201159954071,\n",
       "  'precision_micro': 0.4530082941055298,\n",
       "  'recall_macro': tensor(0.5714, device='cuda:0'),\n",
       "  'recall_micro': tensor(0.7667, device='cuda:0'),\n",
       "  'precision_per_class_macro': tensor(0.4806, device='cuda:0'),\n",
       "  'precision_per_class_micro': tensor(0.4530, device='cuda:0'),\n",
       "  'precision_recall_curve': ([tensor([0.0795, 0.0795, 0.0795,  ..., 1.0000, 1.0000, 1.0000], device='cuda:0'),\n",
       "    tensor([0.0055, 0.0055, 0.0055,  ..., 1.0000, 1.0000, 1.0000], device='cuda:0'),\n",
       "    tensor([0.0023, 0.0023, 0.0023,  ..., 1.0000, 1.0000, 1.0000], device='cuda:0'),\n",
       "    tensor([0.0069, 0.0069, 0.0069,  ..., 1.0000, 1.0000, 1.0000], device='cuda:0'),\n",
       "    tensor([0.0594, 0.0594, 0.0594,  ..., 1.0000, 1.0000, 1.0000], device='cuda:0'),\n",
       "    tensor([0.0023, 0.0023, 0.0023,  ..., 1.0000, 1.0000, 1.0000], device='cuda:0')],\n",
       "   [tensor([1.0000e+00, 1.0000e+00, 1.0000e+00,  ..., 1.2947e-04, 6.4733e-05,\n",
       "            0.0000e+00], device='cuda:0'),\n",
       "    tensor([1.0000e+00, 1.0000e+00, 1.0000e+00,  ..., 1.8727e-03, 9.3633e-04,\n",
       "            0.0000e+00], device='cuda:0'),\n",
       "    tensor([1.0000, 1.0000, 1.0000,  ..., 0.0045, 0.0023, 0.0000], device='cuda:0'),\n",
       "    tensor([1.0000e+00, 1.0000e+00, 1.0000e+00,  ..., 1.4804e-03, 7.4019e-04,\n",
       "            0.0000e+00], device='cuda:0'),\n",
       "    tensor([1.0000e+00, 1.0000e+00, 1.0000e+00,  ..., 1.7324e-04, 8.6618e-05,\n",
       "            0.0000e+00], device='cuda:0'),\n",
       "    tensor([1.0000, 1.0000, 1.0000,  ..., 0.0045, 0.0022, 0.0000], device='cuda:0')],\n",
       "   [tensor([0.0073, 0.0075, 0.0076,  ..., 0.9817, 0.9834, 0.9888], device='cuda:0'),\n",
       "    tensor([0.0015, 0.0015, 0.0015,  ..., 0.8392, 0.8454, 0.8655], device='cuda:0'),\n",
       "    tensor([0.0008, 0.0008, 0.0008,  ..., 0.7573, 0.7686, 0.7989], device='cuda:0'),\n",
       "    tensor([6.8845e-04, 7.6622e-04, 8.5353e-04,  ..., 7.7944e-01, 7.9306e-01,\n",
       "            8.2220e-01], device='cuda:0'),\n",
       "    tensor([0.0016, 0.0020, 0.0021,  ..., 0.9891, 0.9903, 0.9911], device='cuda:0'),\n",
       "    tensor([0.0019, 0.0022, 0.0023,  ..., 0.8597, 0.8612, 0.8651], device='cuda:0')]),\n",
       "  'roc_curve': ([tensor([0.0000, 0.0000, 0.0000,  ..., 1.0000, 1.0000, 1.0000], device='cuda:0'),\n",
       "    tensor([0.0000, 0.0000, 0.0000,  ..., 1.0000, 1.0000, 1.0000], device='cuda:0'),\n",
       "    tensor([0.0000, 0.0000, 0.0000,  ..., 1.0000, 1.0000, 1.0000], device='cuda:0'),\n",
       "    tensor([0.0000, 0.0000, 0.0000,  ..., 1.0000, 1.0000, 1.0000], device='cuda:0'),\n",
       "    tensor([0.0000, 0.0000, 0.0000,  ..., 1.0000, 1.0000, 1.0000], device='cuda:0'),\n",
       "    tensor([0.0000, 0.0000, 0.0000,  ..., 1.0000, 1.0000, 1.0000], device='cuda:0')],\n",
       "   [tensor([0.0000e+00, 6.4733e-05, 1.2947e-04,  ..., 1.0000e+00, 1.0000e+00,\n",
       "            1.0000e+00], device='cuda:0'),\n",
       "    tensor([0.0000e+00, 9.3633e-04, 1.8727e-03,  ..., 1.0000e+00, 1.0000e+00,\n",
       "            1.0000e+00], device='cuda:0'),\n",
       "    tensor([0.0000, 0.0023, 0.0045,  ..., 1.0000, 1.0000, 1.0000], device='cuda:0'),\n",
       "    tensor([0.0000e+00, 7.4019e-04, 1.4804e-03,  ..., 1.0000e+00, 1.0000e+00,\n",
       "            1.0000e+00], device='cuda:0'),\n",
       "    tensor([0.0000e+00, 8.6618e-05, 1.7324e-04,  ..., 1.0000e+00, 1.0000e+00,\n",
       "            1.0000e+00], device='cuda:0'),\n",
       "    tensor([0.0000, 0.0022, 0.0045,  ..., 1.0000, 1.0000, 1.0000], device='cuda:0')],\n",
       "   [tensor([1.0000, 0.9888, 0.9834,  ..., 0.0076, 0.0075, 0.0073], device='cuda:0'),\n",
       "    tensor([1.0000, 0.8655, 0.8454,  ..., 0.0015, 0.0015, 0.0015], device='cuda:0'),\n",
       "    tensor([1.0000e+00, 7.9889e-01, 7.6856e-01,  ..., 8.2557e-04, 8.2283e-04,\n",
       "            8.1413e-04], device='cuda:0'),\n",
       "    tensor([1.0000e+00, 8.2220e-01, 7.9306e-01,  ..., 8.5353e-04, 7.6622e-04,\n",
       "            6.8845e-04], device='cuda:0'),\n",
       "    tensor([1.0000, 0.9911, 0.9903,  ..., 0.0021, 0.0020, 0.0016], device='cuda:0'),\n",
       "    tensor([1.0000, 0.8651, 0.8612,  ..., 0.0023, 0.0022, 0.0019], device='cuda:0')]),\n",
       "  'precision_per_class_weighted': tensor(0.4769, device='cuda:0'),\n",
       "  'recall_weighted': tensor(0.7667, device='cuda:0'),\n",
       "  'recall_per_class_macro': tensor(0.5714, device='cuda:0'),\n",
       "  'recall_per_class_micro': tensor(0.7667, device='cuda:0'),\n",
       "  'recall_per_class_weighted': tensor(0.7667, device='cuda:0'),\n",
       "  'confusion_matrix': tensor([[[160120,  18860],\n",
       "           [  2111,  13337]],\n",
       "  \n",
       "          [[193078,    282],\n",
       "           [   534,    534]],\n",
       "  \n",
       "          [[193950,     37],\n",
       "           [   354,     87]],\n",
       "  \n",
       "          [[191418,   1659],\n",
       "           [   641,    710]],\n",
       "  \n",
       "          [[176515,   6368],\n",
       "           [  3263,   8282]],\n",
       "  \n",
       "          [[193142,    841],\n",
       "           [   167,    278]]], device='cuda:0'),\n",
       "  'CECE': 0.6985688805580139}]"
      ]
     },
     "execution_count": 4,
     "metadata": {},
     "output_type": "execute_result"
    }
   ],
   "source": [
    "file_path = f'../Metrics_results/distilbert-base-cased/test/DistilBERT-ML-Cased-jigsaw_6lbls_{'FL'}__training.pkl'\n",
    "\n",
    "# Open and load the pickle file\n",
    "with open(file_path, 'rb') as file:\n",
    "    distilbert_cased_metrics = pickle.load(file)\n",
    "    \n",
    "distilbert_cased_metrics"
   ]
  },
  {
   "cell_type": "code",
   "execution_count": 7,
   "metadata": {},
   "outputs": [
    {
     "ename": "FileNotFoundError",
     "evalue": "[Errno 2] No such file or directory: '../Metrics_results/HateBert/test/DistilBERT-ML-Cased-jigsaw_6lbls_BCE__training.pkl'",
     "output_type": "error",
     "traceback": [
      "\u001b[1;31m---------------------------------------------------------------------------\u001b[0m",
      "\u001b[1;31mFileNotFoundError\u001b[0m                         Traceback (most recent call last)",
      "Cell \u001b[1;32mIn[8], line 5\u001b[0m\n\u001b[0;32m      2\u001b[0m file_path \u001b[38;5;241m=\u001b[39m \u001b[38;5;124m'\u001b[39m\u001b[38;5;124m../Metrics_results/HateBert/test/DistilBERT-ML-Cased-jigsaw_6lbls_BCE__training.pkl\u001b[39m\u001b[38;5;124m'\u001b[39m\n\u001b[0;32m      4\u001b[0m \u001b[38;5;66;03m# Open and load the pickle file\u001b[39;00m\n\u001b[1;32m----> 5\u001b[0m \u001b[38;5;28;01mwith\u001b[39;00m \u001b[38;5;28;43mopen\u001b[39;49m\u001b[43m(\u001b[49m\u001b[43mfile_path\u001b[49m\u001b[43m,\u001b[49m\u001b[43m \u001b[49m\u001b[38;5;124;43m'\u001b[39;49m\u001b[38;5;124;43mrb\u001b[39;49m\u001b[38;5;124;43m'\u001b[39;49m\u001b[43m)\u001b[49m \u001b[38;5;28;01mas\u001b[39;00m file:\n\u001b[0;32m      6\u001b[0m     hatebert_cased_metrics \u001b[38;5;241m=\u001b[39m pickle\u001b[38;5;241m.\u001b[39mload(file)\n\u001b[0;32m      8\u001b[0m hatebert_cased_metrics\n",
      "File \u001b[1;32mc:\\Users\\liamm\\anaconda3\\envs\\msc_proper\\Lib\\site-packages\\IPython\\core\\interactiveshell.py:324\u001b[0m, in \u001b[0;36m_modified_open\u001b[1;34m(file, *args, **kwargs)\u001b[0m\n\u001b[0;32m    317\u001b[0m \u001b[38;5;28;01mif\u001b[39;00m file \u001b[38;5;129;01min\u001b[39;00m {\u001b[38;5;241m0\u001b[39m, \u001b[38;5;241m1\u001b[39m, \u001b[38;5;241m2\u001b[39m}:\n\u001b[0;32m    318\u001b[0m     \u001b[38;5;28;01mraise\u001b[39;00m \u001b[38;5;167;01mValueError\u001b[39;00m(\n\u001b[0;32m    319\u001b[0m         \u001b[38;5;124mf\u001b[39m\u001b[38;5;124m\"\u001b[39m\u001b[38;5;124mIPython won\u001b[39m\u001b[38;5;124m'\u001b[39m\u001b[38;5;124mt let you open fd=\u001b[39m\u001b[38;5;132;01m{\u001b[39;00mfile\u001b[38;5;132;01m}\u001b[39;00m\u001b[38;5;124m by default \u001b[39m\u001b[38;5;124m\"\u001b[39m\n\u001b[0;32m    320\u001b[0m         \u001b[38;5;124m\"\u001b[39m\u001b[38;5;124mas it is likely to crash IPython. If you know what you are doing, \u001b[39m\u001b[38;5;124m\"\u001b[39m\n\u001b[0;32m    321\u001b[0m         \u001b[38;5;124m\"\u001b[39m\u001b[38;5;124myou can use builtins\u001b[39m\u001b[38;5;124m'\u001b[39m\u001b[38;5;124m open.\u001b[39m\u001b[38;5;124m\"\u001b[39m\n\u001b[0;32m    322\u001b[0m     )\n\u001b[1;32m--> 324\u001b[0m \u001b[38;5;28;01mreturn\u001b[39;00m \u001b[43mio_open\u001b[49m\u001b[43m(\u001b[49m\u001b[43mfile\u001b[49m\u001b[43m,\u001b[49m\u001b[43m \u001b[49m\u001b[38;5;241;43m*\u001b[39;49m\u001b[43margs\u001b[49m\u001b[43m,\u001b[49m\u001b[43m \u001b[49m\u001b[38;5;241;43m*\u001b[39;49m\u001b[38;5;241;43m*\u001b[39;49m\u001b[43mkwargs\u001b[49m\u001b[43m)\u001b[49m\n",
      "\u001b[1;31mFileNotFoundError\u001b[0m: [Errno 2] No such file or directory: '../Metrics_results/HateBert/test/DistilBERT-ML-Cased-jigsaw_6lbls_BCE__training.pkl'"
     ]
    }
   ],
   "source": [
    "# HateBert-ML-jigsaw_6lbls_FL_128_augmented_testing.pkl\n",
    "file_path = '../Metrics_results/HateBert/test/Metrics_results/HateBert/test/HateBert-ML-jigsaw_6lbls_FL_128_augmented_testing.pkl'\n",
    "\n",
    "# Open and load the pickle file\n",
    "with open(file_path, 'rb') as file:\n",
    "    distilbert_cased_metrics = pickle.load(file)\n",
    "    \n",
    "distilbert_cased_metrics"
   ]
  }
 ],
 "metadata": {
  "kernelspec": {
   "display_name": "msc_proper",
   "language": "python",
   "name": "python3"
  },
  "language_info": {
   "codemirror_mode": {
    "name": "ipython",
    "version": 3
   },
   "file_extension": ".py",
   "mimetype": "text/x-python",
   "name": "python",
   "nbconvert_exporter": "python",
   "pygments_lexer": "ipython3",
   "version": "3.12.3"
  }
 },
 "nbformat": 4,
 "nbformat_minor": 2
}
